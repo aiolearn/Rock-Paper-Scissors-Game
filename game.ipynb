{
 "cells": [
  {
   "cell_type": "markdown",
   "metadata": {},
   "source": [
    "## J5"
   ]
  },
  {
   "cell_type": "markdown",
   "metadata": {},
   "source": [
    "### Documentation"
   ]
  },
  {
   "cell_type": "code",
   "execution_count": null,
   "metadata": {},
   "outputs": [],
   "source": [
    "\"\"\"\n",
    "List of Choices (bazi):\n",
    "    This list contains the possible choices for the game: 'sang' (rock), 'kaqaz' (paper), 'qeychi' (scissors).\n",
    "\n",
    "\n",
    "Game Loop (while(shart_bazi):):\n",
    "    The game is controlled by a while loop that continues until the variable shart_bazi becomes False.\n",
    "\n",
    "\n",
    "Player Input (you = input(\"Entekhab kon (sang, kaqaz, qeychi): \")):\n",
    "    Takes input from the player to choose between 'sang', 'kaqaz', 'qeychi'.\n",
    "    Entering '0' exits the game.\n",
    "\n",
    "\n",
    "Computer's Move (rand = random.randint(0, 2), computer = bazi[rand]):\n",
    "    Generates a random index to select the computer's move from the bazi list.\n",
    "\n",
    "\n",
    "Outcome Checks:\n",
    "    Compares the player's choice with the computer's choice and updates scores accordingly.\n",
    "\n",
    "\n",
    "Displaying Scores and Choices (print(\"YOU: (\", you_point, \")\", you, \" COM:(\", computer_point, \")\", computer)):\n",
    "    Prints the current scores and choices made by both the player and the computer.\n",
    "\n",
    "\n",
    "Game End Condition (if you_point >= 3 or computer_point >= 3):\n",
    "    Ends the game if either the player or the computer reaches a score of 3.\n",
    "\n",
    "\n",
    "Determining the Winner and Displaying Result:\n",
    "    Compares the final scores and declares the winner or loser.\n",
    "\n",
    "\n",
    "Final Scores (print(\"YOU: \", you_point), print(\"COM: \", computer_point)):\n",
    "    Prints the final scores of the player and the computer.\n",
    "\"\"\""
   ]
  },
  {
   "cell_type": "markdown",
   "metadata": {},
   "source": [
    "### Code"
   ]
  },
  {
   "cell_type": "code",
   "execution_count": null,
   "metadata": {},
   "outputs": [],
   "source": [
    "import random"
   ]
  },
  {
   "cell_type": "code",
   "execution_count": null,
   "metadata": {},
   "outputs": [],
   "source": [
    "# لیست انتخاب‌های ممکن برای بازی ('sang' برای سنگ، 'kaqaz' برای کاغذ، 'qeychi' برای قیچی)\n",
    "bazi = ['sang', 'kaqaz', 'qeychi']"
   ]
  },
  {
   "cell_type": "code",
   "execution_count": null,
   "metadata": {},
   "outputs": [],
   "source": [
    "# متغیر برای ذخیره انتخاب کامپیوتر\n",
    "computer = ''"
   ]
  },
  {
   "cell_type": "code",
   "execution_count": null,
   "metadata": {},
   "outputs": [],
   "source": [
    "# امتیازات بازیکن و کامپیوتر را مقداردهی اولیه کنید\n",
    "you_point = 0\n",
    "computer_point = 0"
   ]
  },
  {
   "cell_type": "code",
   "execution_count": null,
   "metadata": {},
   "outputs": [],
   "source": [
    "# پرچم برای کنترل حلقه بازی\n",
    "shart_bazi = True"
   ]
  },
  {
   "cell_type": "code",
   "execution_count": null,
   "metadata": {},
   "outputs": [],
   "source": [
    "# حلقه بازی\n",
    "while(shart_bazi):\n",
    "    # ورودی بازیکن برای انتخاب\n",
    "    you = input(\"Entekhab kon (sang, kaqaz, qeychi): \")\n",
    "\n",
    "    # اگر بازیکن '0' را وارد کند، بازی خاتمه می‌یابد\n",
    "    if you == \"0\":\n",
    "        shart_bazi = False\n",
    "\n",
    "    # تولید یک شماره تصادفی برای انتخاب حرکت کامپیوتر\n",
    "    rand = random.randint(0, 2)\n",
    "    computer = bazi[rand]\n",
    "\n",
    "    # بررسی نتیجه بازی بر اساس انتخاب بازیکن و کامپیوتر\n",
    "    if you == 'sang' and computer == 'kaqaz':\n",
    "        computer_point += 1\n",
    "\n",
    "    if you == 'qeychi' and computer == 'kaqaz':\n",
    "        you_point += 1\n",
    "\n",
    "    if you == 'sang' and computer == 'qeychi':\n",
    "        you_point += 1\n",
    "\n",
    "    if you == 'kaqaz' and computer == 'qeychi':\n",
    "        computer_point += 1\n",
    "\n",
    "    if you == 'qeychi' and computer == 'sang':\n",
    "        computer_point += 1\n",
    "\n",
    "    if you == 'kaqaz' and computer == 'sang':\n",
    "        you_point += 1\n",
    "\n",
    "    # نمایش امتیازات فعلی و انتخاب‌های انجام شده\n",
    "    print(\"YOU: (\", you_point, \")\", you, \"     COM:(\", computer_point, \")\", computer)\n",
    "\n",
    "    # پایان بازی اگر یازیکن یا کامپیوتر به امتیاز ۳ برسند\n",
    "    if you_point >= 3 or computer_point >= 3:\n",
    "        shart_bazi = False"
   ]
  },
  {
   "cell_type": "code",
   "execution_count": null,
   "metadata": {},
   "outputs": [],
   "source": [
    "# تعیین برنده و نمایش نتیجه\n",
    "if you_point > computer_point:\n",
    "    print(\"\\nYOU WIN!\")\n",
    "else:\n",
    "    print(\"\\nYOU LOSE :(\")"
   ]
  },
  {
   "cell_type": "code",
   "execution_count": null,
   "metadata": {},
   "outputs": [],
   "source": [
    "# نمایش امتیازات نهایی\n",
    "print(\"YOU: \", you_point)\n",
    "print(\"COM: \", computer_point)"
   ]
  }
 ],
 "metadata": {
  "kernelspec": {
   "display_name": "Python 3.8.8 64-bit",
   "language": "python",
   "name": "python3"
  },
  "language_info": {
   "codemirror_mode": {
    "name": "ipython",
    "version": 3
   },
   "file_extension": ".py",
   "mimetype": "text/x-python",
   "name": "python",
   "nbconvert_exporter": "python",
   "pygments_lexer": "ipython3",
   "version": "3.8.8"
  },
  "orig_nbformat": 4,
  "vscode": {
   "interpreter": {
    "hash": "570feb405e2e27c949193ac68f46852414290d515b0ba6e5d90d076ed2284471"
   }
  }
 },
 "nbformat": 4,
 "nbformat_minor": 2
}
